{
 "cells": [
  {
   "cell_type": "code",
   "execution_count": 1,
   "metadata": {},
   "outputs": [],
   "source": [
    "import pandas as pd\n",
    "import requests\n",
    "import datetime\n",
    "from bs4 import BeautifulSoup as BS\n",
    "import re\n",
    "import numpy as np\n",
    "from gspread_pandas import Spread, Client, conf"
   ]
  },
  {
   "cell_type": "markdown",
   "metadata": {},
   "source": [
    "gspread und gspread-pandas installiert? Dann: Hier die Zugangsdaten eintragen.\n",
    "\n",
    "- Google-Developer-Projekt anlegen - https://console.developers.google.com/\n",
    "- In der API-Bibliothek https://console.developers.google.com/apis/library die Module \"Google Drive\" und \"Google Sheets\" suchen und aktivieren\n",
    "- Ein Dienstkonto anlegen: https://console.developers.google.com/apis/credentials , \"Anmeldedaten erstellen\", ein Konto anlegen.\n",
    "- Die json-Datei mit dem Zugangsschlüssel erzeugen und herunterladen (Konto aufrufen, \"Schlüssel erstellen\" klicken\n",
    "- Dem Code die Datei mundgerecht servieren: hier voreingetragen unter ./creds/google_secret.json\"\n",
    "- Den User unter client eintragen\n",
    "- spread ist die ID des Dokuments, auf das die API Zugriff haben soll. Muss keine Extra-Rechte für jede/n haben. \n",
    "\n",
    "https://medium.com/@vince.shields913/reading-google-sheets-into-a-pandas-dataframe-with-gspread-and-oauth2-375b932be7bf\n",
    "\n",
    "**Parameter: Google-Helper-Konto und Pfad zum Key - hier eintragen!!!**"
   ]
  },
  {
   "cell_type": "code",
   "execution_count": null,
   "metadata": {},
   "outputs": [],
   "source": [
    "gh_email = 'googlesheets4@scrapers-xxxxxx.iam.gserviceaccount.com'\n",
    "gh_key = '/path/to/key/scrapers-xxxxxx.json'\n",
    "\n",
    "sheet_id = '1J1vcImg2mi4vziZfzLdy3aMoBoBTwCuoCYch2MNz0E4'\n",
    "gsheet_id = '17s82vieTzxblhzqNmHw814F0xWN0ruJkqnFB1OpameQ'"
   ]
  },
  {
   "cell_type": "markdown",
   "metadata": {},
   "source": [
    "Jetzt den Zugriff auf "
   ]
  },
  {
   "cell_type": "code",
   "execution_count": 2,
   "metadata": {},
   "outputs": [],
   "source": [
    "def config(id):\n",
    "    config = conf.get_config(conf_dir='creds', file_name=gh_key)\n",
    "    client = Client(user=gh_email, config=config)\n",
    "    spread = Spread(id, user=gh_mail, config=config)\n",
    "    return spread"
   ]
  }
 ],
 "metadata": {
  "kernelspec": {
   "display_name": "Python 3",
   "language": "python",
   "name": "python3"
  },
  "language_info": {
   "codemirror_mode": {
    "name": "ipython",
    "version": 3
   },
   "file_extension": ".py",
   "mimetype": "text/x-python",
   "name": "python",
   "nbconvert_exporter": "python",
   "pygments_lexer": "ipython3",
   "version": "3.7.4"
  }
 },
 "nbformat": 4,
 "nbformat_minor": 2
}
