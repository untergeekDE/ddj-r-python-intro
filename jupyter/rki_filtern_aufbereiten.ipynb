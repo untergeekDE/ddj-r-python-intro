{
 "cells": [
  {
   "cell_type": "markdown",
   "metadata": {},
   "source": [
    "# RKI-Daten aufbereiten\n",
    "Corona-Datensatz des RKI lesen, filtern, aufsummieren...\n",
    "\n",
    "Für das Seminar \"Datenjournalismus\" im Sommersemester 2022\n",
    "\n",
    "Hochschule Mainz, Studiengang Digital Media, 6. Semester\n",
    "\n",
    "CC-BY Jan Eggers"
   ]
  },
  {
   "cell_type": "markdown",
   "metadata": {},
   "source": [
    "## Vorbereitung: Bibliotheken laden\n",
    "Zusatzpakete statten Python mit Fähigkeiten zur Ein- und Ausgabe aus. Sie müssen in der jeweiligen Python-Umgebung installiert sein - wenn sie das nicht sind, muss man einmal auf die Kommandozeile und beispielsweise mit dem Befehl\n",
    "```conda install pandas```\n",
    "das Pandas-Paket installieren, das wir für Tabellen (\"Dataframes\") brauchen. \n",
    "\n",
    "(Wer Updates für ein Paket einspielen will, nutzt dazu den Befehl ```conda update ...``` oder einfach  ```conda update --all```)"
   ]
  },
  {
   "cell_type": "code",
   "execution_count": null,
   "metadata": {},
   "outputs": [],
   "source": [
    "import pandas as pd\n",
    "import numpy as np"
   ]
  },
  {
   "cell_type": "markdown",
   "metadata": {},
   "source": [
    "Den obigen Textblock ausgeführt - und nichts ist passiert? Dann hat alles geklappt - und wir können loslegen. \n",
    "\n",
    "## CSV-Datensatz vom RKI einlesen\n",
    "Wir lesen die CSV-Datei des RKI aus: \n",
    "\n",
    "Die Datei\n",
    "* https://github.com/robert-koch-institut/SARS-CoV-2_Infektionen_in_Deutschland\n",
    "\n",
    "laden wir und schauen sie uns danach kurz an.\n",
    "\n",
    "Die Datei ist ein Feld-Wald-und-Wiesen-CSV: \n",
    "- Als Trennzeichen wird das Komma (\",\") verwendet, das keine Probleme mit Kommazahlen bereitet\n",
    "- Text ist in Anführungszeichen - und er enthält auch keine Steuerzeichen für Zeilensprünge, die gerne für Chaos sorgen\n",
    "- Der Zeichensatz der Datei ist UTF-8 - im Universal-Format gibt es keine Probleme mit Umlauten etc. "
   ]
  },
  {
   "cell_type": "code",
   "execution_count": null,
   "metadata": {},
   "outputs": [],
   "source": [
    "rki_url = \"https://media.githubusercontent.com/media/robert-koch-institut/SARS-CoV-2_Infektionen_in_Deutschland/master/Aktuell_Deutschland_SarsCov2_Infektionen.csv\"\n",
    "\n",
    "rki_df = pd.read_csv(rki_url)\n",
    "rki_df.head(5)"
   ]
  },
  {
   "cell_type": "markdown",
   "metadata": {},
   "source": [
    "** Beschreiben **\n",
    "\n",
    "Was ist im Dataframe eigentlich drin?\n"
   ]
  },
  {
   "cell_type": "code",
   "execution_count": null,
   "metadata": {},
   "outputs": [],
   "source": [
    "rki_df.describe()"
   ]
  },
  {
   "cell_type": "markdown",
   "metadata": {},
   "source": [
    "**Filtern**\n",
    "\n",
    "Nur das Bundesland oder, alternativ, nur einen Kreis."
   ]
  },
  {
   "cell_type": "code",
   "execution_count": null,
   "metadata": {},
   "outputs": [],
   "source": [
    "#rki_hessen_df = rki_df.query(\"Bundesland == 'Hessen'\")\n",
    "rki_hessen_df = rki_df.loc[(rki_df[\"IdLandkreis\"] >= 6000) & (rki_df[\"IdLandkreis\"]< 7000)]\n",
    "rki_hessen_df.head(5)"
   ]
  },
  {
   "cell_type": "markdown",
   "metadata": {},
   "source": [
    "Etwas nacharbeiten: \n",
    "- Die Spalten `Meldedatum` und `RefDatum` in ordentliche Datumsangaben umformatieren\n",
    "- Die Spalte `IdLandkreis` von einer Zahl in einen String umwandeln - mit führender Null"
   ]
  },
  {
   "cell_type": "code",
   "execution_count": null,
   "metadata": {},
   "outputs": [],
   "source": [
    "from datetime import date, timedelta\n",
    "from dateutil.parser import parse\n",
    "\n",
    "for i in rki_hessen_df.index:\n",
    "    rki_hessen_df.loc[i,'IdLandkreis'] = \"0\"+str(rki_hessen_df.IdLandkreis[i])\n",
    "    rki_hessen_df.loc[i,'Meldedatum'] = parse(rki_hessen_df.Meldedatum[i]).date()\n",
    "    rki_hessen_df.loc[i,'Refdatum'] = parse(rki_hessen_df.Refdatum[i]).date()\n",
    "    \n",
    "rki_hessen_df.head(5)"
   ]
  },
  {
   "cell_type": "markdown",
   "metadata": {},
   "source": [
    "**Tabelle pivotieren**: Hessische Fälle nehmen, Neufälle filtern (Variable NeuerFall muss 0 oder 1 sein), nach Meldedatum aufsummieren (das Argument `aggfunc=np.sum` bestimmt, dass als Funktion zum Aggregieren die Summe der Werte berechnet wird)"
   ]
  },
  {
   "cell_type": "code",
   "execution_count": null,
   "metadata": {},
   "outputs": [],
   "source": [
    "mein_df = rki_hessen_df.query(\"NeuerFall in  (0,1)\")\n",
    "neufaelle_df = pd.pivot_table(mein_df,index=[\"Meldedatum\"],values=[\"AnzahlFall\"],aggfunc=np.sum)\n",
    "neufaelle_df.head(5)"
   ]
  },
  {
   "cell_type": "markdown",
   "metadata": {},
   "source": [
    "**Nach Altersgruppen aufsummieren** - ein Pivot nach Meldedatum über die Altersgruppen als Spalten, den Summen (aggfunc) der Fallzahlen. "
   ]
  },
  {
   "cell_type": "code",
   "execution_count": null,
   "metadata": {},
   "outputs": [],
   "source": [
    "datum = date.today() - timedelta(days=7)\n",
    "datum"
   ]
  },
  {
   "cell_type": "code",
   "execution_count": null,
   "metadata": {},
   "outputs": [],
   "source": [
    "mein_df = rki_hessen_df.loc[rki_hessen_df[\"Meldedatum\"] >= datum]\n",
    "faelle_nach_alter_df = pd.pivot_table(mein_df,index=[\"Meldedatum\"],columns=[\"Altersgruppe\"],values=[\"AnzahlFall\"],aggfunc=np.sum,fill_value = 0)\n",
    "faelle_nach_alter_df.head(5)"
   ]
  },
  {
   "cell_type": "markdown",
   "metadata": {},
   "source": [
    "## Tabelle als Excel-Datei ausgeben\n",
    "Und jetzt hätten wir das Ganze gerne wieder als Excel-Datei. Das ist zum Glück einfach.\n",
    "\n",
    "Die Parameter sagen: Spaltennamen mit in die Tabelle schreiben, auch den Index (das Datum). Und Zahlen mit Komma ausgeben! Alle Formatierungsbefehle für `to_excel` finden sich [in der Pandas-Dokumentation.](https://pandas.pydata.org/pandas-docs/stable/reference/api/pandas.DataFrame.to_excel.html) "
   ]
  },
  {
   "cell_type": "code",
   "execution_count": null,
   "metadata": {},
   "outputs": [],
   "source": [
    "faelle_nach_alter_df.to_excel ('export.xlsx', header=True)"
   ]
  },
  {
   "cell_type": "markdown",
   "metadata": {},
   "source": [
    "**Nur Mut! Man kann nichts kaputt machen!**"
   ]
  },
  {
   "cell_type": "code",
   "execution_count": null,
   "metadata": {},
   "outputs": [],
   "source": []
  }
 ],
 "metadata": {
  "kernelspec": {
   "display_name": "Python 3 (ipykernel)",
   "language": "python",
   "name": "python3"
  },
  "language_info": {
   "codemirror_mode": {
    "name": "ipython",
    "version": 3
   },
   "file_extension": ".py",
   "mimetype": "text/x-python",
   "name": "python",
   "nbconvert_exporter": "python",
   "pygments_lexer": "ipython3",
   "version": "3.8.13"
  }
 },
 "nbformat": 4,
 "nbformat_minor": 4
}
